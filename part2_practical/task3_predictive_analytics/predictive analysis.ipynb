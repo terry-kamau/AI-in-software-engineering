{
 "cells": [
  {
   "cell_type": "code",
   "execution_count": 3,
   "id": "4de954d6-8eac-4707-a3dd-d0c6158d332f",
   "metadata": {},
   "outputs": [
    {
     "name": "stdout",
     "output_type": "stream",
     "text": [
      "✅ Accuracy: 0.9649\n",
      "✅ F1 Score: 0.9524\n"
     ]
    }
   ],
   "source": [
    "# 📌 Import necessary libraries\n",
    "import pandas as pd\n",
    "from sklearn.model_selection import train_test_split\n",
    "from sklearn.ensemble import RandomForestClassifier\n",
    "from sklearn.metrics import accuracy_score, f1_score\n",
    "\n",
    "# 📥 Load your local dataset\n",
    "df = pd.read_csv(\"data.csv\")  # Ensure 'data.csv' is in your current working directory\n",
    "\n",
    "# 🧹 Preprocess the data\n",
    "# Drop irrelevant columns if they exist\n",
    "df = df.drop(columns=[\"id\", \"Unnamed: 32\"], errors=\"ignore\")\n",
    "\n",
    "# Simulate priority based on diagnosis\n",
    "df[\"priority\"] = df[\"diagnosis\"].map({\"M\": \"high\", \"B\": \"low\"})\n",
    "df[\"priority_encoded\"] = df[\"priority\"].map({\"low\": 0, \"high\": 1})\n",
    "\n",
    "# Separate features and target\n",
    "X = df.drop(columns=[\"diagnosis\", \"priority\", \"priority_encoded\"])\n",
    "y = df[\"priority_encoded\"]\n",
    "\n",
    "# 📊 Split into training and test sets\n",
    "X_train, X_test, y_train, y_test = train_test_split(X, y, test_size=0.2, random_state=42)\n",
    "\n",
    "# 🧠 Train a Random Forest model\n",
    "model = RandomForestClassifier(n_estimators=100, random_state=42)\n",
    "model.fit(X_train, y_train)\n",
    "\n",
    "# 🔍 Predict and evaluate\n",
    "y_pred = model.predict(X_test)\n",
    "accuracy = accuracy_score(y_test, y_pred)\n",
    "f1 = f1_score(y_test, y_pred)\n",
    "\n",
    "# ✅ Print evaluation metrics\n",
    "print(\"✅ Accuracy:\", round(accuracy, 4))\n",
    "print(\"✅ F1 Score:\", round(f1, 4))\n"
   ]
  },
  {
   "cell_type": "code",
   "execution_count": null,
   "id": "b68740fe-41fb-450d-9a86-2a2a80023041",
   "metadata": {},
   "outputs": [],
   "source": []
  }
 ],
 "metadata": {
  "kernelspec": {
   "display_name": "anaconda-2024.02-py310",
   "language": "python",
   "name": "conda-env-anaconda-2024.02-py310-py"
  },
  "language_info": {
   "codemirror_mode": {
    "name": "ipython",
    "version": 3
   },
   "file_extension": ".py",
   "mimetype": "text/x-python",
   "name": "python",
   "nbconvert_exporter": "python",
   "pygments_lexer": "ipython3",
   "version": "3.10.14"
  }
 },
 "nbformat": 4,
 "nbformat_minor": 5
}
